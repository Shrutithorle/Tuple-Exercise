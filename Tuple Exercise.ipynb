{
 "cells": [
  {
   "cell_type": "code",
   "execution_count": 3,
   "id": "031d5f26",
   "metadata": {},
   "outputs": [
    {
     "name": "stdout",
     "output_type": "stream",
     "text": [
      "(10, 200, 4, 55, 402)\n",
      "<class 'tuple'>\n"
     ]
    }
   ],
   "source": [
    "#1.Write a Python program to create a tuple\n",
    "t = (10,200,4,55,402)\n",
    "print(t)\n",
    "print(type(t))\n",
    "\n"
   ]
  },
  {
   "cell_type": "code",
   "execution_count": 14,
   "id": "6cc08b94",
   "metadata": {},
   "outputs": [
    {
     "name": "stdout",
     "output_type": "stream",
     "text": [
      "('Shruti', [4, 2, 3], 'T', 2)\n"
     ]
    }
   ],
   "source": [
    "#2.Write a Python program to create a tuple with different data types\n",
    "\n",
    "a = (\"Shruti\",[4, 2, 3],'T',2)\n",
    "print(a)\n"
   ]
  },
  {
   "cell_type": "code",
   "execution_count": 18,
   "id": "c2b82530",
   "metadata": {},
   "outputs": [
    {
     "name": "stdout",
     "output_type": "stream",
     "text": [
      "(1, 2, 3, 4, 5, 6, 7, 8)\n",
      "<class 'tuple'>\n"
     ]
    },
    {
     "data": {
      "text/plain": [
       "3"
      ]
     },
     "execution_count": 18,
     "metadata": {},
     "output_type": "execute_result"
    }
   ],
   "source": [
    "#3.Write a Python program to create a tuple with numbers and print one item\n",
    "s = (1,2,3,4,5,6,7,8)\n",
    "print(s)\n",
    "print(type(s))\n",
    "s[2]"
   ]
  },
  {
   "cell_type": "code",
   "execution_count": 27,
   "id": "9374427c",
   "metadata": {
    "scrolled": true
   },
   "outputs": [
    {
     "name": "stdout",
     "output_type": "stream",
     "text": [
      "neha\n",
      "avinash\n",
      "swapnali\n",
      "nikita\n"
     ]
    }
   ],
   "source": [
    "#4.Write a Python program to unpack a tuple in several variables\n",
    "names = (\"neha\", \"avinash\", \"swapnali\",\"nikita\")\n",
    "names= name1,name2,name3,name4 \n",
    "print(name1)\n",
    "print(name2) \n",
    "print(name3)\n",
    "print(name4)"
   ]
  },
  {
   "cell_type": "code",
   "execution_count": 43,
   "id": "7e871ec9",
   "metadata": {},
   "outputs": [
    {
     "name": "stdout",
     "output_type": "stream",
     "text": [
      "('shruti', 'neha', 'avinash', 'swapnali', 'nikita')\n"
     ]
    }
   ],
   "source": [
    "#5.Write a Python program to add an item in a tuple\n",
    "names = (\"neha\", \"avinash\", \"swapnali\",\"nikita\")\n",
    "new_names = (\"shruti\",) + names\n",
    "print(new_names)"
   ]
  },
  {
   "cell_type": "code",
   "execution_count": 48,
   "id": "14742502",
   "metadata": {},
   "outputs": [
    {
     "name": "stdout",
     "output_type": "stream",
     "text": [
      "neha, avinash, swapnali, nikita\n"
     ]
    }
   ],
   "source": [
    "#6.Write a Python program to convert a tuple to a string\n",
    "new_names = \", \".join(names)\n",
    "print(new_names)"
   ]
  },
  {
   "cell_type": "code",
   "execution_count": 51,
   "id": "5d423c8a",
   "metadata": {},
   "outputs": [
    {
     "name": "stdout",
     "output_type": "stream",
     "text": [
      "The 4th element is: 5\n",
      "The 4th element from last is: 3\n"
     ]
    }
   ],
   "source": [
    "#7.Write a Python program to get the 4th element and 4th element from last of a tuple\n",
    "# Create a tuple\n",
    "s = (1, 2, 3, 4, 5, 6)\n",
    "\n",
    "# Access the 4th element\n",
    "fourth_element = s[4]\n",
    "print(\"The 4th element is:\", fourth_element)\n",
    "\n",
    "# Access the 4th element from the last\n",
    "last_fourth_element = s[-4]\n",
    "print(\"The 4th element from last is:\", last_fourth_element)\n"
   ]
  },
  {
   "cell_type": "code",
   "execution_count": 53,
   "id": "258b5a14",
   "metadata": {},
   "outputs": [
    {
     "name": "stdout",
     "output_type": "stream",
     "text": [
      "('Tutor', 'J', 23, 56.67, [23, 12], True)\n"
     ]
    }
   ],
   "source": [
    "#8.Write a Python program to create the colon of a tuple\n",
    "test_tuple = (\"Tutor\", 'J', 23 , 56.67 , [23,12] , True)\n",
    "print(test_tuple)\n"
   ]
  },
  {
   "cell_type": "code",
   "execution_count": 37,
   "id": "0958f45d",
   "metadata": {},
   "outputs": [
    {
     "name": "stdout",
     "output_type": "stream",
     "text": [
      "Repeated items = 4\n"
     ]
    }
   ],
   "source": [
    "#9.Write a Python program to find the repeated items of a tuple\n",
    "def repeated_items(a, item):\n",
    "    count = a.count(item)\n",
    "    return count\n",
    "a = (6, 39, 55, 2, 1, 6, 8, 6, 78, 34, 6)\n",
    "item = 6\n",
    "count = repeated_items(a, item)\n",
    "print(\"Repeated items =\",count)\n",
    "\n"
   ]
  },
  {
   "cell_type": "code",
   "execution_count": 23,
   "id": "9c53e09e",
   "metadata": {},
   "outputs": [
    {
     "name": "stdout",
     "output_type": "stream",
     "text": [
      "{check1} in Tuple = False\n",
      "{check2} in Tuple = True\n"
     ]
    }
   ],
   "source": [
    "#10. Write a Python program to check whether an element exists within a tuple\n",
    "s = ('h','s','u','t','r','i', 7, 'e', 'z', 'g', 3)\n",
    "check1 = 2\n",
    "check2 = 's'\n",
    "\n",
    "# Check and print the result\n",
    "print(\"{check1} in Tuple =\", check1 in s)\n",
    "print(\"{check2} in Tuple =\", check2 in s)\n"
   ]
  },
  {
   "cell_type": "code",
   "execution_count": 26,
   "id": "926e6313",
   "metadata": {},
   "outputs": [
    {
     "name": "stdout",
     "output_type": "stream",
     "text": [
      "(11, 22, 33, 44, 55, 66)\n"
     ]
    }
   ],
   "source": [
    "#11.Write a Python program to convert a list to a tuple\n",
    "w = [11,22,33,44,55,66]\n",
    "t = tuple(w)\n",
    "print(t)"
   ]
  },
  {
   "cell_type": "code",
   "execution_count": 27,
   "id": "68540aec",
   "metadata": {},
   "outputs": [
    {
     "name": "stdout",
     "output_type": "stream",
     "text": [
      "{432, 657, 500, 202}\n"
     ]
    }
   ],
   "source": [
    "#12. Write a Python program to remove an item from a tuple\n",
    "r = {202,500,432,657,111}\n",
    "r.remove(111)\n",
    "print(r)"
   ]
  },
  {
   "cell_type": "code",
   "execution_count": 31,
   "id": "d8c78072",
   "metadata": {},
   "outputs": [
    {
     "name": "stdout",
     "output_type": "stream",
     "text": [
      "(66, 24, 10, 2, 4, 65, 55, 20, 44, 10, 2, 54, 10)\n"
     ]
    },
    {
     "data": {
      "text/plain": [
       "(55, 20, 44, 10, 2, 54)"
      ]
     },
     "execution_count": 31,
     "metadata": {},
     "output_type": "execute_result"
    }
   ],
   "source": [
    "#13. Write a Python program to slice a tuple\n",
    "slice = (66,24,10,2,4,65,55,20,44,10,2,54,10)\n",
    "print(slice)\n",
    "slice[6:12]"
   ]
  },
  {
   "cell_type": "code",
   "execution_count": 43,
   "id": "6c0141fa",
   "metadata": {},
   "outputs": [
    {
     "name": "stdout",
     "output_type": "stream",
     "text": [
      "(66, 24, 10, 2, 4, 65, 55, 20, 44, 10, 2, 54, 10)\n",
      "Index : 6\n"
     ]
    }
   ],
   "source": [
    "#14. Write a Python program to find the index of an item of a tuple\n",
    "l = (66,24,10,2,4,65,55,20,44,10,2,54,10)\n",
    "print(l)\n",
    "print(\"Index :\", l.index(55))\n"
   ]
  },
  {
   "cell_type": "code",
   "execution_count": 44,
   "id": "a93de4b9",
   "metadata": {},
   "outputs": [
    {
     "data": {
      "text/plain": [
       "13"
      ]
     },
     "execution_count": 44,
     "metadata": {},
     "output_type": "execute_result"
    }
   ],
   "source": [
    "#15.Write a Python program to find the length of a tuple\n",
    "l = (66,24,10,2,4,65,55,20,44,10,2,54,10)\n",
    "len(l)"
   ]
  },
  {
   "cell_type": "code",
   "execution_count": 7,
   "id": "7e653db1",
   "metadata": {},
   "outputs": [
    {
     "name": "stdout",
     "output_type": "stream",
     "text": [
      "{1: 'one', 2: 'two', 3: 'three'}\n"
     ]
    }
   ],
   "source": [
    "#16. Write a Python program to convert a tuple to a dictionary\n",
    "def tuple_to_dict(tuple_data):\n",
    "    # Check if the length of the tuple is even (since each key should have a corresponding value)\n",
    "    if len(tuple_data) % 2 != 0:\n",
    "        raise ValueError(\"Tuple length must be even for conversion to dictionary\")\n",
    "\n",
    "    result_dict = dict(zip(tuple_data[::2], tuple_data[1::2]))\n",
    "    return result_dict\n",
    "\n",
    "sample_tuple = (1, 'one', 2, 'two', 3, 'three')\n",
    "result_dictionary = tuple_to_dict(sample_tuple)\n",
    "print(result_dictionary)\n"
   ]
  },
  {
   "cell_type": "code",
   "execution_count": 10,
   "id": "26e2c1c9",
   "metadata": {},
   "outputs": [
    {
     "name": "stdout",
     "output_type": "stream",
     "text": [
      "The original tuple is :  (1, 2, 3, 4, 5)\n",
      "The reversed tuple is :  (5, 4, 3, 2, 1)\n"
     ]
    }
   ],
   "source": [
    "#18. Write a Python program to reverse a tuple\n",
    "def rev(t):\n",
    "  res = t[::-1]\n",
    "  return (res)\n",
    "t = (1, 2, 3, 4, 5)\n",
    "print(\"The original tuple is : \", t)\n",
    "res = rev(t)\n",
    "print(\"The reversed tuple is : \", res)\n",
    "\n"
   ]
  },
  {
   "cell_type": "code",
   "execution_count": 13,
   "id": "60aff662",
   "metadata": {},
   "outputs": [
    {
     "name": "stdout",
     "output_type": "stream",
     "text": [
      "name :  {'shruti': 1, 'sanjay': 2, 'thorle': 3}\n"
     ]
    }
   ],
   "source": [
    "#19.Write a Python program to convert a list of tuples into a dictionary\n",
    "t = [('shruti', 1), ('sanjay', 2), ('thorle', 3)]\n",
    "res = dict(t)\n",
    "print(\"name : \", res)\n"
   ]
  },
  {
   "cell_type": "code",
   "execution_count": 15,
   "id": "d4339e49",
   "metadata": {},
   "outputs": [
    {
     "name": "stdout",
     "output_type": "stream",
     "text": [
      "cities (' Nashik, pune, banglore, aurangabad, mumbai, ooty, hariyana, telangana, ')\n"
     ]
    }
   ],
   "source": [
    "#20. Write a Python program to print a tuple with string formatting\n",
    "cities = (\"Nashik\", \"pune\", \"banglore\", \"aurangabad\", \"mumbai\", \"ooty\", \"hariyana\", \"telangana\")\n",
    "print(\"cities ('\", end=\" \")\n",
    "for city in cities:\n",
    "    print(city, end=\", \")\n",
    "print(\"')\")\n",
    "\n",
    "\n"
   ]
  },
  {
   "cell_type": "code",
   "execution_count": 17,
   "id": "d9f7e3ae",
   "metadata": {},
   "outputs": [
    {
     "name": "stdout",
     "output_type": "stream",
     "text": [
      "Tuple: 23\n",
      "Type of Tuple: <class 'int'>\n"
     ]
    }
   ],
   "source": [
    "#21. Create a tuple with single item 23\n",
    "m = (23)\n",
    "\n",
    "print(\"Tuple:\", m)\n",
    "print(\"Type of Tuple:\", type(m))\n"
   ]
  },
  {
   "cell_type": "code",
   "execution_count": 18,
   "id": "2554bc7a",
   "metadata": {},
   "outputs": [
    {
     "name": "stdout",
     "output_type": "stream",
     "text": [
      "1\n",
      "2\n",
      "3\n",
      "4\n",
      "5\n"
     ]
    }
   ],
   "source": [
    "#22. Unpack the tuple into 5 variables\n",
    "t = (1, 2, 3, 4, 5)\n",
    "m, n, p, q, r = t\n",
    "print(m)\n",
    "print(n)\n",
    "print(p)\n",
    "print(q)\n",
    "print(r)"
   ]
  },
  {
   "cell_type": "code",
   "execution_count": 19,
   "id": "7085cf3d",
   "metadata": {},
   "outputs": [
    {
     "name": "stdout",
     "output_type": "stream",
     "text": [
      "Tuple 1: ('a', 'b', 'c')\n",
      "Tuple 2: (1, 2, 3)\n"
     ]
    }
   ],
   "source": [
    "#23. Swap two tuples in Python\n",
    "t1 = (1, 2, 3)\n",
    "t2 = ('a', 'b', 'c')\n",
    "temp = t1\n",
    "t1 = t2\n",
    "t2 = temp\n",
    "print(\"Tuple 1:\", t1)\n",
    "print(\"Tuple 2:\", t2)\n"
   ]
  },
  {
   "cell_type": "code",
   "execution_count": 3,
   "id": "b12184f6",
   "metadata": {},
   "outputs": [
    {
     "name": "stdout",
     "output_type": "stream",
     "text": [
      "{1, 2, 3, 4, 5}\n",
      "[10, 20, 30, 40, 50]\n",
      "{1, 2, 3, 4, 5, 10, 20, 30, 40, 50}\n"
     ]
    }
   ],
   "source": [
    "#24. Copy specific elements from one tuple to a new tuple\n",
    "s = {1,2,3,4,5}\n",
    "print(s)\n",
    "l = [10,20,30,40,50]\n",
    "print(l)\n",
    "s.update(l)\n",
    "print(s)"
   ]
  },
  {
   "cell_type": "code",
   "execution_count": 22,
   "id": "c780d924",
   "metadata": {},
   "outputs": [
    {
     "name": "stdout",
     "output_type": "stream",
     "text": [
      "updated: (10, 20, 33, 40, 50)\n"
     ]
    }
   ],
   "source": [
    "#25.Modify the tuple\n",
    "dt= (10, 20, 30, 40, 50)\n",
    "data = list(dt)\n",
    "data[2] = 33\n",
    "data = tuple(data)\n",
    "print(\"updated:\", data)\n"
   ]
  },
  {
   "cell_type": "code",
   "execution_count": 28,
   "id": "42b187d9",
   "metadata": {},
   "outputs": [
    {
     "name": "stdout",
     "output_type": "stream",
     "text": [
      "Original tuple: [('a', 53), ('b', 37), ('c', 23), ('d', 1), ('e', 18)]\n",
      "Sorted tuple by 2nd item: [('d', 1), ('e', 18), ('c', 23), ('b', 37), ('a', 53)]\n"
     ]
    }
   ],
   "source": [
    "#26. Sort a tuple of tuples by 2nd item\n",
    "\n",
    "\n"
   ]
  },
  {
   "cell_type": "code",
   "execution_count": 36,
   "id": "5f640fc1",
   "metadata": {},
   "outputs": [
    {
     "name": "stdout",
     "output_type": "stream",
     "text": [
      "Sorted Tuple: (('d', 1), ('e', 18), ('c', 23), ('b', 37), ('a', 53))\n"
     ]
    }
   ],
   "source": [
    "original_tuple = (('p', 33), ('q', 20), ('r', 98), ('d',23), ('e', 18))\n",
    "# Sort the tuple by the second item\n",
    "sorted_tuple = tuple(sorted(original_tuple, key=lambda x: x[1]))\n",
    "\n",
    "# Print the sorted tuple\n",
    "print(\"Sorted Tuple:\", sorted_tuple)\n",
    "\n"
   ]
  },
  {
   "cell_type": "code",
   "execution_count": null,
   "id": "156a0f4a",
   "metadata": {},
   "outputs": [],
   "source": []
  }
 ],
 "metadata": {
  "kernelspec": {
   "display_name": "Python 3 (ipykernel)",
   "language": "python",
   "name": "python3"
  },
  "language_info": {
   "codemirror_mode": {
    "name": "ipython",
    "version": 3
   },
   "file_extension": ".py",
   "mimetype": "text/x-python",
   "name": "python",
   "nbconvert_exporter": "python",
   "pygments_lexer": "ipython3",
   "version": "3.11.5"
  }
 },
 "nbformat": 4,
 "nbformat_minor": 5
}
